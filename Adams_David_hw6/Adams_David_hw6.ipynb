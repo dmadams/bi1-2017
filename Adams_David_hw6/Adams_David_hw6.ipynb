{
 "cells": [
  {
   "cell_type": "markdown",
   "metadata": {},
   "source": [
    "1.a. \n",
    "\n",
    "    State          Energy            Multiplicity              Weight\n",
    "    \n",
    "    Off            P*ε_NS            (N_NS)^P / P!           ((N_NS)^P/P!)*e^((-P*ε_NS)/(k_B*T))\n",
    "    \n",
    "    On          P*ε_NS + ε_S      (N_NS)^(P-1) / (P-1)!     ((N_NS)^(P-1)/(P-1)!)*e^((-(P-1)*ε_NS + ε_S)/(k_B*T))\n",
    "    \n",
    "1.b.\n",
    "\n",
    "    p_bound = Weight_on / (Weight_on + Weight_off)\n",
    "            = ((N_NS)^(P-1)/(P-1)!)*e^((-(P-1)*ε_NS + ε_S)/(k_B*T)) / (((N_NS)^(P-1)/(P-1)!)*e^((-(P-1)*ε_NS +  \n",
    "              ε_S)/(k_B*T)) + ((N_NS)^P/P!)*e^((-P*ε_NS)/(k_B*T)))\n",
    "\n",
    "1.c.\n",
    "\n",
    "    p_bound = ((N_NS)^(P-1)/(P-1)!)*e^((-(P-1)*ε_NS + ε_S)/(k_B*T)) / (((N_NS)^(P-1)/(P-1)!)*e^((-(P-1)*ε_NS +  \n",
    "              ε_S)/(k_B*T)) + ((N_NS)^P/P!)*e^((-P*ε_NS)/(k_B*T)))\n",
    "            * (P!/(N_NS^P))*e^((P*ε_NS)/(k_B*T)) / (P!/(N_NS^P))*e^((P*ε_NS)/(k_B*T))\n",
    "            = ((P/N_NS)*e^((ε_NS - ε_S)/(k_B*T))) / ((P/N_NS)*e^((ε_NS - ε_S)/(k_B*T)) + 1)\n",
    "            = ((P/N_NS)*e^((-∆ε)/(k_B*T))) / ((P/N_NS)*e^((-∆ε)/(k_B*T)) + 1)\n",
    "    "
   ]
  },
  {
   "cell_type": "code",
   "execution_count": 45,
   "metadata": {
    "collapsed": false
   },
   "outputs": [
    {
     "name": "stdout",
     "output_type": "stream",
     "text": [
      "2.a.1. binding energy = -6.992057747845057 kBT\n",
      "2.a.2. binding energy = -5.584672027506074 kBT\n",
      "2.b.1. binding energy = -3.9363706563196317 kBT\n",
      "2.b.2. binding energy = -6.294688950104942 kBT\n",
      "2.b.3. binding energy = -3.2291480237687833 kBT\n"
     ]
    }
   ],
   "source": [
    "# 2.a.b.\n",
    "\n",
    "# Imports\n",
    "import linecache\n",
    "\n",
    "def compute_energy_matrix(filename, start, end):\n",
    "    '''\n",
    "    Function to convert a data file with energy matrix data to an energy matrix of the form:\n",
    "    [[A_val_1, C_val_1, G_val_1, T_val_1], [A_val_2, C_val_2, G_val_2, T_val_2], etc.]\n",
    "    \n",
    "    Parameters:\n",
    "        file_name : string\n",
    "            name of the file that contains the data for the energy matrix\n",
    "        start, end : integers\n",
    "            start line and end line of the data in the file\n",
    "    Returns:\n",
    "        energy_matrix : 4 by (end - start) float matrix \n",
    "            energy matrix computed of the above form\n",
    "    '''\n",
    "    # Initialize energy_matrix\n",
    "    energy_matrix = [[0 for x in range(4)] for y in range(end - start)]\n",
    "\n",
    "    # For loop to sort through file of type given in data set and convert to energy_matrix format\n",
    "    for i in range(start, end):\n",
    "        # Set up variables\n",
    "        first = True\n",
    "        second = True\n",
    "        third = True\n",
    "        fourth = True\n",
    "        gap1 = 0\n",
    "        gap2 = 0\n",
    "        gap3 = 0\n",
    "        A_val = 0\n",
    "        C_val = 0\n",
    "        G_val = 0\n",
    "        T_val = 0\n",
    "        \n",
    "        # Open line\n",
    "        line = linecache.getline(filename, i)\n",
    "        \n",
    "        # For loop to convert each line to 4 entries in energy_matrix\n",
    "        for j in range(len(line)):\n",
    "            if (line[j:j+1] == ' ' and first):\n",
    "                gap1 = j+1\n",
    "                first = False\n",
    "                A_val = float(line[0:j])\n",
    "            elif (line[j:j+1] == ' ' and second):\n",
    "                gap2 = j+1\n",
    "                second = False\n",
    "                C_val = float(line[gap1:j])\n",
    "            elif (line[j:j+1] == ' ' and third):\n",
    "                gap3 = j+1\n",
    "                third = False\n",
    "                G_val = float(line[gap2:j])\n",
    "            elif (line[j:j+2] == '\\n' and fourth):\n",
    "                fourth = False\n",
    "                T_val = float(line[gap3:j])\n",
    "        \n",
    "        # Assign energy_matrix values for current line\n",
    "        energy_matrix[i-8][0] = A_val\n",
    "        energy_matrix[i-8][1] = C_val\n",
    "        energy_matrix[i-8][2] = G_val\n",
    "        energy_matrix[i-8][3] = T_val\n",
    "        \n",
    "    return energy_matrix\n",
    "\n",
    "def compute_binding_energy(promoter, energy_matrix):\n",
    "    '''\n",
    "    Function to compute the binding energy given a promoter and a energy matrix\n",
    "    \n",
    "    Paramters:\n",
    "        promoter : string\n",
    "            string representing the promoter for which the binding energy will be calculated\n",
    "        energy_matrix : float matrix\n",
    "            energy matrix to be used in calculating the binding energy\n",
    "    \n",
    "    Returns:\n",
    "        binding_energy : float\n",
    "            the binding energy calculated for the promoter\n",
    "    '''\n",
    "    \n",
    "    # Initialize binding_energy\n",
    "    binding_energy = 0\n",
    "    \n",
    "    # For loop to calculate the binding_energy for the promoter using the energy_matrix\n",
    "    for i in range(len(promoter)):\n",
    "        if (promoter[i:i+1] == 'A'):\n",
    "            binding_energy = binding_energy + energy_matrix[i][0]\n",
    "        elif (promoter[i:i+1] == 'C'):\n",
    "            binding_energy = binding_energy + energy_matrix[i][1]\n",
    "        elif (promoter[i:i+1] == 'G'):\n",
    "            binding_energy = binding_energy + energy_matrix[i][2]\n",
    "        elif (promoter[i:i+1] == 'T'):\n",
    "            binding_energy = binding_energy + energy_matrix[i][3]\n",
    "    \n",
    "    return binding_energy\n",
    "\n",
    "# Do the calculations for our problems\n",
    "em = compute_energy_matrix('hw6_dataset.txt', 8, 49)\n",
    "p1 = 'TCGAGTTTACACTTTATGCTTCCGGCTCGTATAATGTGTGG'\n",
    "p2 = 'TCGAGTTTACACTTTATGCTTCCGGCTCGGATAATGTGTGG'\n",
    "p3 = 'CAGGCTCTACGCTTTATTCTTGCGGCTCGTATGGTGTGTGG'\n",
    "p4 = 'GAGGCTGGACACTTTAATCTTCCCTATCGTATGTTGTGTGC'\n",
    "p5 = 'CGAGCATGCCACCTTAAGCCTCTGGCTCGTATGACGTGTGG'\n",
    "be1 = compute_binding_energy(p1, em)\n",
    "be2 = compute_binding_energy(p2, em)\n",
    "be3 = compute_binding_energy(p3, em)\n",
    "be4 = compute_binding_energy(p4, em)\n",
    "be5 = compute_binding_energy(p5, em)\n",
    "\n",
    "# Print stuff\n",
    "print('2.a.1. binding energy = ' + str(be1) + ' kBT')\n",
    "print('2.a.2. binding energy = ' + str(be2) + ' kBT')\n",
    "print('2.b.1. binding energy = ' + str(be3) + ' kBT')\n",
    "print('2.b.2. binding energy = ' + str(be4) + ' kBT')\n",
    "print('2.b.3. binding energy = ' + str(be5) + ' kBT')\n"
   ]
  },
  {
   "cell_type": "markdown",
   "metadata": {},
   "source": [
    "    \n",
    "    2.a.1. binding energy = -6.992057747845057 kBT\n",
    "    2.a.2. binding energy = -5.584672027506074 kBT\n",
    "    2.b.1. binding energy = -3.9363706563196317 kBT\n",
    "    2.b.2. binding energy = -6.294688950104942 kBT\n",
    "    2.b.3. binding energy = -3.2291480237687833 kBT\n",
    "    "
   ]
  },
  {
   "cell_type": "markdown",
   "metadata": {},
   "source": [
    "3.a.\n",
    "\n",
    "    State                 Renormalized Weight\n",
    "    1                             1\n",
    "    2                  (P/(N_NS))*e^((ε_NS - ε_S)/k_B*T)\n",
    "    3                  (R/(N_NS))*e^((ε_NS - ε_S)/k_B*T)\n",
    "    \n",
    "3.b.\n",
    "\n",
    "    p_bound = Weight_2 / (Weight_1 + Weight_2 + Weight_3)\n",
    "            = (P/(N_NS))*e^((ε_NS - ε_S)/k_B*T) / (1 + (P/(N_NS))*e^((ε_NS - ε_S)/k_B*T) + \n",
    "              (R/(N_NS))*e^((ε_NS - ε_S)/k_B*T))\n",
    "            = (P/(N_NS))*e^(-∆ε_p/(k_B*T)) / (1 + (P/(N_NS))*e^(-∆ε_p/(k_B*T)) + (R/(N_NS))*e^(-∆ε_r/(k_B*T)))\n",
    "              \n",
    "3.c.\n",
    "    \n",
    "    p_1 = Weight_1 / (Weight_1 + Weight_2 + Weight_3)\n",
    "        = 1 / (1 + (P/(N_NS))*e^(-∆ε_p/(k_B*T)) + (R/(N_NS))*e^(-∆ε_r/(k_B*T)))\n",
    "    p_2 = p_bound = (P/(N_NS))*e^(-∆ε_p/(k_B*T)) / (1 + (P/(N_NS))*e^(-∆ε_p/(k_B*T)) + (R/(N_NS))*e^(-∆ε_r/(k_B*T)))\n",
    "    p_3 = (R/(N_NS))*e^(-∆ε_r/(k_B*T)) / (1 + (P/(N_NS))*e^(-∆ε_p/(k_B*T)) + (R/(N_NS))*e^(-∆ε_r/(k_B*T)))\n",
    "    "
   ]
  },
  {
   "cell_type": "code",
   "execution_count": 57,
   "metadata": {
    "collapsed": false
   },
   "outputs": [
    {
     "data": {
      "text/plain": [
       "<matplotlib.legend.Legend at 0x11399a898>"
      ]
     },
     "execution_count": 57,
     "metadata": {},
     "output_type": "execute_result"
    },
    {
     "data": {
      "image/png": "[encoded data removed]",
      "text/plain": [
       "<matplotlib.figure.Figure at 0x113b26240>"
      ]
     },
     "metadata": {},
     "output_type": "display_data"
    }
   ],
   "source": [
    "# 3.c.\n",
    "\n",
    "# Imports\n",
    "import numpy\n",
    "import matplotlib.pyplot as plt\n",
    "\n",
    "%matplotlib inline\n",
    "\n",
    "# Given parameters\n",
    "P = 1000\n",
    "E_p = 5\n",
    "E_r = -15\n",
    "N_NS = 4.6 * 10**6\n",
    "e = 2.71828\n",
    "\n",
    "# Initialize matrices to store data points\n",
    "p1 = numpy.zeros(1000)\n",
    "p2 = numpy.zeros(1000)\n",
    "p3 = numpy.zeros(1000)\n",
    "\n",
    "# Calculating the probabilities\n",
    "for R in range(1, 1001):\n",
    "    p1[R-1] = 1 / (1 + (P / (N_NS)) * e**(-1 * E_p) + (R / (N_NS)) * e**(-1 * E_r))\n",
    "    p2[R-1] = ((P / (N_NS)) * e**(-1 * E_p)) / (1 + (P / (N_NS)) * e**(-1 * E_p) + (R / (N_NS)) * e**(-1 * E_r))\n",
    "    p3[R-1] = ((R / (N_NS)) * e**(-1 * E_r)) / (1 + (P / (N_NS)) * e**(-1 * E_p) + (R / (N_NS)) * e**(-1 * E_r))\n",
    "\n",
    "# Plot stuff\n",
    "plt.plot(range(1,1001), p1, label = 'Probability State 1')\n",
    "plt.plot(range(1,1001), p2, label = 'Probability State 2')\n",
    "plt.plot(range(1,1001), p3, label = 'Probability State 3')\n",
    "plt.title('Probability of States v. Number of Repressors')\n",
    "plt.xlabel('Number of Repressors')\n",
    "plt.ylabel('Probability')\n",
    "plt.xscale('log')\n",
    "plt.legend()\n"
   ]
  },
  {
   "cell_type": "markdown",
   "metadata": {},
   "source": [
    "3.d.\n",
    "\n",
    "    dm/dt = r * p_bound - γm\n",
    "    Steady state so dm/dt = 0\n",
    "    0 = r * p_bound - γm\n",
    "    γm = r * p_bound\n",
    "    m = (r * p_bound) / γ\n",
    "    \n",
    "    fold-change = m(R>0) / m(R=0)\n",
    "                = (r/γ * p_bound(R>0)) / (r/γ * p_bound(R=0))\n",
    "                = ((P/(N_NS))*e^(-∆ε_p/(k_B*T)) / (1 + (P/(N_NS))*e^(-∆ε_p/(k_B*T)) +\n",
    "                (R/(N_NS))*e^(-∆ε_r/(k_B*T)))) / (((P/N_NS)*e^((-∆ε)/(k_B*T))) / ((P/N_NS)*e^((-∆ε)/(k_B*T)) + 1))\n",
    "                = ((P/N_NS)*e^((-∆ε_p)/(k_B*T)) + 1) / (1 + (P/(N_NS))*e^(-∆ε_p/(k_B*T)) + \n",
    "                  (R/(N_NS))*e^(-∆ε_r/(k_B*T))\n",
    "\n",
    "3.e.\n",
    "\n",
    "    Weight_2 = (P/N_NS)*e^((-∆ε_p)/(k_B*T)) ≈ 0 (when compared to other weights)\n",
    "    \n",
    "    fold-change = 1 / (1 + (R/(N_NS))*e^(-∆ε_r/(k_B*T)))\n",
    "    "
   ]
  },
  {
   "cell_type": "code",
   "execution_count": 59,
   "metadata": {
    "collapsed": false
   },
   "outputs": [
    {
     "data": {
      "text/plain": [
       "<matplotlib.legend.Legend at 0x1144f0940>"
      ]
     },
     "execution_count": 59,
     "metadata": {},
     "output_type": "execute_result"
    },
    {
     "data": {
      "image/png": "[encoded data removed]",
      "text/plain": [
       "<matplotlib.figure.Figure at 0x1144ee4a8>"
      ]
     },
     "metadata": {},
     "output_type": "display_data"
    }
   ],
   "source": [
    "# 3.f.\n",
    "\n",
    "N_NS = 4.6 * 10**6\n",
    "E_r1 = -10\n",
    "E_r2 = -14\n",
    "E_r3 = -17\n",
    "e = 2.71828\n",
    "\n",
    "fc1 = numpy.zeros(1000)\n",
    "fc2 = numpy.zeros(1000)\n",
    "fc3 = numpy.zeros(1000)\n",
    "\n",
    "for R in range(1, 1001):\n",
    "    fc1[R-1] = 1 / (1 + (R/(N_NS))*e**(-1 * E_r1))\n",
    "    fc2[R-1] = 1 / (1 + (R/(N_NS))*e**(-1 * E_r2))\n",
    "    fc3[R-1] = 1 / (1 + (R/(N_NS))*e**(-1 * E_r3))\n",
    "    \n",
    "plt.plot(range(1,1001), fc1, label = '∆ε_r = −10 kBT')\n",
    "plt.plot(range(1,1001), fc2, label = '∆ε_r = −14 kBT')\n",
    "plt.plot(range(1,1001), fc3, label = '∆ε_r = −17 kBT')\n",
    "plt.title('Fold-change v. Number of Repressors')\n",
    "plt.xlabel('Number of Repressors')\n",
    "plt.ylabel('Fold-change')\n",
    "plt.xscale('log')\n",
    "plt.yscale('log')\n",
    "plt.legend()"
   ]
  },
  {
   "cell_type": "code",
   "execution_count": null,
   "metadata": {
    "collapsed": true
   },
   "outputs": [],
   "source": []
  }
 ],
 "metadata": {
  "kernelspec": {
   "display_name": "Python 3",
   "language": "python",
   "name": "python3"
  },
  "language_info": {
   "codemirror_mode": {
    "name": "ipython",
    "version": 3
   },
   "file_extension": ".py",
   "mimetype": "text/x-python",
   "name": "python",
   "nbconvert_exporter": "python",
   "pygments_lexer": "ipython3",
   "version": "3.6.0"
  }
 },
 "nbformat": 4,
 "nbformat_minor": 2
}
