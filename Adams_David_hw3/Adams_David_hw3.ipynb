{
 "cells": [
  {
   "cell_type": "markdown",
   "metadata": {},
   "source": [
    "1.a. \n",
    "\n",
    "    dNK(t)/dt = -λNk(t)\n",
    "    dNAr(t)/dt = -dNK(t)/dt = λNk(t)\n",
    "    \n",
    "    These expressions are related by dNAr(t)/dt = -dNK(t)/dt.\n",
    "    \n",
    "1.b.\n",
    "    \n",
    "    x(t) = x(0)*e^(kt)\n",
    "    NK(t) = NK(0)*e^(-λt)\n",
    "    \n",
    "1.c.\n",
    "    \n",
    "    NK(t) = NK(0)*e^(-λt)\n",
    "    NK(0) = NK(t) + NAr(t)\n",
    "    \n",
    "    NK(t) = (NK(t) + NAr(t))*e^(-λt)\n",
    "    e^(-λt) = NK(t) / (NK(t) + NAr(t))\n",
    "    e^(λt) = 1 + NAr(t)/NK(t)\n",
    "    λt = ln(1 + NAr(t)/NK(t))\n",
    "    t = (1/λ) * ln(1 + NAr(t)/NK(t))\n",
    "    \n",
    "1.d.\n",
    "    \n",
    "    Sample Number        40Ar × 10−12 mol/g        wt. % K2O\n",
    "    1                    2.91                      0.657\n",
    "    2                    3.18                      0.755\n",
    "    3                    3.08                      0.680\n",
    "    \n",
    "    λ = 5.8*10^-11 yr^-1\n",
    "    \n",
    "    NAr1 = (2.91*10^-12) * (6.02*10^23) = 1.75*10^12\n",
    "    NAr2 = (3.18*10^-12) * (6.02*10^23) = 1.91*10^12\n",
    "    NAr3 = (3.08*10^-12) * (6.02*10^23) = 1.85*10^12\n",
    "    NAr = (1.75*10^12 + 1.91*10^12 + 1.85*10^12) / 3\n",
    "        =1.84*10^12\n",
    "    \n",
    "    NK1 = (0.00657 g) * (1/94.2 mol K2O/g) * (2 mol K/mol K2O) * (1.2*10^-4 mol 40K/mol Ktotal) * (6.02*10^23)\n",
    "        = 1.01*10^16\n",
    "    NK2 = (0.00755 g) * (1/94.2 mol K2O/g) * (2 mol K/mol K2O) * (1.2*10^-4 mol 40K/mol Ktotal) * (6.02*10^23)\n",
    "        = 1.16*10^16\n",
    "    NK3 = (0.00680 g) * (1/94.2 mol K2O/g) * (2 mol K/mol K2O) * (1.2*10^-4 mol 40K/mol Ktotal) * (6.02*10^23)\n",
    "        = 1.04*10^16\n",
    "    NK = (1.01*10^16 + 1.16*10^16 + 1.04*10^16) / 3\n",
    "       = 1.07*10^16\n",
    "       \n",
    "    t = (1 / (5.8*10^-11 yr^-1)) * ln(1 + (1.84*10^12 / 1.07*10^16))\n",
    "      = 2.96*10^6 yr\n"
   ]
  },
  {
   "cell_type": "markdown",
   "metadata": {},
   "source": [
    "2.a.\n",
    "    \n",
    "    3*10^9 base pairs * 1 error / 10^10 base pairs * 1 replication = 0.3 errors/replication\n",
    "    \n",
    "2.b.\n",
    "    \n",
    "    0.3 errors/replication * 23 replications = 6.9 errors (mutations)\n",
    "    \n",
    "2.c.\n",
    "\n",
    "    34 + 1 + (15 yr * 365 days/yr * (1/16 days)) = 377.2 replications\n",
    "    \n",
    "2.d.\n",
    "\n",
    "    0.3 errors/replication * 377.2 replications = 113.2 mutations\n",
    "    \n",
    "2.e.\n",
    "\n",
    "    6.9 + 113.2 = 120 mutations\n",
    "    \n",
    "    The father has a much larger relative impact than the mother.\n"
   ]
  },
  {
   "cell_type": "markdown",
   "metadata": {},
   "source": [
    "3.a.\n",
    "\n",
    "    4 * 120 = 480 mutations\n",
    "    \n",
    "3.b.\n",
    "\n",
    "    2.96*10^6 yr * (1 generation / 30 yr) * (120 mutations / 1 generation) = 1.18*10^7 mutations\n",
    "    \n",
    "3.c.\n",
    "    \n",
    "    Great-great-grandmother:\n",
    "    (5000 base pairs / 3*10^9 base pairs) * 480 mutations = 8*10^-4 mutations\n",
    "    \n",
    "    Lucy:\n",
    "    (5000 base pairs / 3*10^9 base pairs) * 1.18*10^7 mutations = 20 mutations\n",
    "    \n",
    "    If not enough time has passed, it is likely that using this method we will have two sequences that are exactly\n",
    "    the same. Therefore this method will not work well on timescales that are too short.\n",
    "    "
   ]
  },
  {
   "cell_type": "markdown",
   "metadata": {},
   "source": [
    "4.a.\n",
    "\n",
    "    17000 bp * (3*10^-5 mutations/bp*generation) = 0.51 mutations/generation\n",
    "    \n",
    "4.b.\n",
    "\n",
    "    4 * .51 = 2 mutations\n",
    "    \n",
    "4.c.\n",
    "\n",
    "    2.96*10^6 yr * (1 generation / 30 yr) * (.5 mutations / 1 generation) = 50300 mutations\n",
    "    \n",
    "    If too much time has passed, there will be too many mutations and determining relatedness will be difficult."
   ]
  },
  {
   "cell_type": "code",
   "execution_count": null,
   "metadata": {
    "collapsed": true
   },
   "outputs": [],
   "source": []
  }
 ],
 "metadata": {
  "kernelspec": {
   "display_name": "Python 3",
   "language": "python",
   "name": "python3"
  },
  "language_info": {
   "codemirror_mode": {
    "name": "ipython",
    "version": 3
   },
   "file_extension": ".py",
   "mimetype": "text/x-python",
   "name": "python",
   "nbconvert_exporter": "python",
   "pygments_lexer": "ipython3",
   "version": "3.6.0"
  }
 },
 "nbformat": 4,
 "nbformat_minor": 2
}
